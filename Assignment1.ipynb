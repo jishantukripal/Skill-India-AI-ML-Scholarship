{
  "nbformat": 4,
  "nbformat_minor": 0,
  "metadata": {
    "colab": {
      "name": "Assignment1.ipynb",
      "provenance": [],
      "authorship_tag": "ABX9TyM6RFgL3wJFN/ZAHGvT1bGM"
    },
    "kernelspec": {
      "name": "python3",
      "display_name": "Python 3"
    },
    "language_info": {
      "name": "python"
    }
  },
  "cells": [
    {
      "cell_type": "markdown",
      "metadata": {
        "id": "tpPuzrDmsF5B"
      },
      "source": [
        "**Skill India AI-ML Scholarship**\n",
        "\n",
        "*Assignment*: **Inventory Management System**\n",
        "\n",
        "*Created By*: **JISHANTU KRIPAL**"
      ]
    },
    {
      "cell_type": "markdown",
      "metadata": {
        "id": "wBUHZ5wlsxVe"
      },
      "source": [
        "**Read Inventory** (*Import JSON file*)"
      ]
    },
    {
      "cell_type": "code",
      "metadata": {
        "id": "SV972JArv-z2"
      },
      "source": [
        "import json"
      ],
      "execution_count": 17,
      "outputs": []
    },
    {
      "cell_type": "code",
      "metadata": {
        "id": "q0aVrgAKwH12"
      },
      "source": [
        "fd = open(\"Records.json\",'r')\n",
        "r = fd.read()\n",
        "fd.close()\n",
        "\n",
        "Records = json.loads(r)"
      ],
      "execution_count": 18,
      "outputs": []
    },
    {
      "cell_type": "code",
      "metadata": {
        "colab": {
          "base_uri": "https://localhost:8080/"
        },
        "id": "wGEoIdMiwVnB",
        "outputId": "5cc0de56-6dd6-44e8-bd8d-a8ee54cabfa1"
      },
      "source": [
        "Records"
      ],
      "execution_count": 19,
      "outputs": [
        {
          "output_type": "execute_result",
          "data": {
            "text/plain": [
              "{'1001': {'name': 'Pen', 'pr': 10, 'qn': 340},\n",
              " '1002': {'name': 'Pencil', 'pr': 8, 'qn': 100},\n",
              " '1003': {'name': 'Books', 'pr': 120, 'qn': 100},\n",
              " '1004': {'name': 'Candy', 'pr': 5, 'qn': 1000},\n",
              " '1005': {'name': 'Box', 'pr': 80, 'qn': 100},\n",
              " '1006': {'name': 'Eraser', 'pr': 10, 'qn': 250},\n",
              " '1007': {'name': 'Sharpner', 'pr': 15, 'qn': 200},\n",
              " '1008': {'name': 'Scale', 'pr': 30, 'qn': 5},\n",
              " '1009': {'name': 'Keyboard', 'pr': 350, 'qn': 10},\n",
              " '1010': {'name': 'Head Phone', 'pr': 450, 'qn': 50}}"
            ]
          },
          "metadata": {},
          "execution_count": 19
        }
      ]
    },
    {
      "cell_type": "markdown",
      "metadata": {
        "id": "EBD8JxYiwog6"
      },
      "source": [
        "**Adding New Item Into Inventory**"
      ]
    },
    {
      "cell_type": "code",
      "metadata": {
        "colab": {
          "base_uri": "https://localhost:8080/"
        },
        "id": "Y1GwdtbrwvBX",
        "outputId": "9388bf66-fc84-49bf-fb09-786b225c9e7b"
      },
      "source": [
        "prod_id = str(input(\"Enter product id:\"))\n",
        "name = str(input(\"Enter name:\"))\n",
        "pr = int(input(\"Enter price:\"))\n",
        "qn = int(input(\"Enter quantity:\"))\n",
        "\n",
        "Records[prod_id] = {'name': name, 'pr': pr, 'qn': qn}\n",
        "\n",
        "js = json.dumps(Records)\n",
        "\n",
        "fd = open(\"Records.json\",'w')\n",
        "fd.write(js)\n",
        "fd.close()"
      ],
      "execution_count": 20,
      "outputs": [
        {
          "name": "stdout",
          "output_type": "stream",
          "text": [
            "Enter product id:1011\n",
            "Enter name:Glue\n",
            "Enter price:50\n",
            "Enter quantity:40\n"
          ]
        }
      ]
    },
    {
      "cell_type": "code",
      "metadata": {
        "colab": {
          "base_uri": "https://localhost:8080/"
        },
        "id": "L_RgKhi6xSjX",
        "outputId": "07380d77-da18-4258-8549-c1f15683d9c7"
      },
      "source": [
        "Records"
      ],
      "execution_count": 21,
      "outputs": [
        {
          "output_type": "execute_result",
          "data": {
            "text/plain": [
              "{'1001': {'name': 'Pen', 'pr': 10, 'qn': 340},\n",
              " '1002': {'name': 'Pencil', 'pr': 8, 'qn': 100},\n",
              " '1003': {'name': 'Books', 'pr': 120, 'qn': 100},\n",
              " '1004': {'name': 'Candy', 'pr': 5, 'qn': 1000},\n",
              " '1005': {'name': 'Box', 'pr': 80, 'qn': 100},\n",
              " '1006': {'name': 'Eraser', 'pr': 10, 'qn': 250},\n",
              " '1007': {'name': 'Sharpner', 'pr': 15, 'qn': 200},\n",
              " '1008': {'name': 'Scale', 'pr': 30, 'qn': 5},\n",
              " '1009': {'name': 'Keyboard', 'pr': 350, 'qn': 10},\n",
              " '1010': {'name': 'Head Phone', 'pr': 450, 'qn': 50},\n",
              " '1011': {'name': 'Glue', 'pr': 50, 'qn': 40}}"
            ]
          },
          "metadata": {},
          "execution_count": 21
        }
      ]
    },
    {
      "cell_type": "markdown",
      "metadata": {
        "id": "AjIoFqZQxg7_"
      },
      "source": [
        "**Purchase And Getting the Bill from Inventory**"
      ]
    },
    {
      "cell_type": "code",
      "metadata": {
        "colab": {
          "base_uri": "https://localhost:8080/"
        },
        "id": "D-IDK3hfxmTR",
        "outputId": "62b2e3da-ac49-4083-a810-265b47e696ed"
      },
      "source": [
        "ui_prod  = str(input(\"Enter the product_Id: \"))\n",
        "ui_quant = int(input(\"Enter the quantity: \"))\n",
        "\n",
        "\n",
        "print(\"Product: \", Records[ui_prod]['name'])\n",
        "print(\"Price: \", Records[ui_prod]['pr'])\n",
        "print(\"Billing Amount: \", Records[ui_prod]['pr'] * ui_quant)\n",
        "\n",
        "Records[ui_prod]['qn'] = Records[ui_prod]['qn'] - ui_quant"
      ],
      "execution_count": 22,
      "outputs": [
        {
          "output_type": "stream",
          "name": "stdout",
          "text": [
            "Enter the product_Id: 1005\n",
            "Enter the quantity: 3\n",
            "Product:  Box\n",
            "Price:  80\n",
            "Billing Amount:  240\n"
          ]
        }
      ]
    },
    {
      "cell_type": "markdown",
      "metadata": {
        "id": "Bmijpcl2yCnP"
      },
      "source": [
        "**Updated Inventory After Purchase**"
      ]
    },
    {
      "cell_type": "code",
      "metadata": {
        "colab": {
          "base_uri": "https://localhost:8080/"
        },
        "id": "UhPichfxySb1",
        "outputId": "3984fd06-bcef-4489-8b12-6ae2133a26b7"
      },
      "source": [
        "Records"
      ],
      "execution_count": 23,
      "outputs": [
        {
          "output_type": "execute_result",
          "data": {
            "text/plain": [
              "{'1001': {'name': 'Pen', 'pr': 10, 'qn': 340},\n",
              " '1002': {'name': 'Pencil', 'pr': 8, 'qn': 100},\n",
              " '1003': {'name': 'Books', 'pr': 120, 'qn': 100},\n",
              " '1004': {'name': 'Candy', 'pr': 5, 'qn': 1000},\n",
              " '1005': {'name': 'Box', 'pr': 80, 'qn': 97},\n",
              " '1006': {'name': 'Eraser', 'pr': 10, 'qn': 250},\n",
              " '1007': {'name': 'Sharpner', 'pr': 15, 'qn': 200},\n",
              " '1008': {'name': 'Scale', 'pr': 30, 'qn': 5},\n",
              " '1009': {'name': 'Keyboard', 'pr': 350, 'qn': 10},\n",
              " '1010': {'name': 'Head Phone', 'pr': 450, 'qn': 50},\n",
              " '1011': {'name': 'Glue', 'pr': 50, 'qn': 40}}"
            ]
          },
          "metadata": {},
          "execution_count": 23
        }
      ]
    }
  ]
}